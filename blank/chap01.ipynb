{
  "cells": [
    {
      "cell_type": "markdown",
      "id": "1331faa1",
      "metadata": {
        "id": "1331faa1"
      },
      "source": [
        "You can order print and ebook versions of *Think Python 3e* from\n",
        "[Bookshop.org](https://bookshop.org/a/98697/9781098155438) and\n",
        "[Amazon](https://www.amazon.com/_/dp/1098155432?smid=ATVPDKIKX0DER&_encoding=UTF8&tag=oreilly20-20&_encoding=UTF8&tag=greenteapre01-20&linkCode=ur2&linkId=e2a529f94920295d27ec8a06e757dc7c&camp=1789&creative=9325)."
      ]
    },
    {
      "cell_type": "markdown",
      "id": "a14edb7e",
      "metadata": {
        "tags": [],
        "id": "a14edb7e"
      },
      "source": [
        "# Welcome\n",
        "\n",
        "This is the Jupyter notebook for Chapter 1 of [*Think Python*, 3rd edition](https://greenteapress.com/wp/think-python-3rd-edition), by Allen B. Downey.\n",
        "\n",
        "If you are not familiar with Jupyter notebooks,\n",
        "[click here for a short introduction](https://colab.research.google.com/github/AllenDowney/ThinkPython/blob/v3/chapters/jupyter_intro.ipynb).\n",
        "\n",
        "Then, if you are not already running this notebook on Colab, [click here to run this notebook on Colab](https://colab.research.google.com/github/AllenDowney/ThinkPython/blob/v3/chapters/chap01.ipynb)."
      ]
    },
    {
      "cell_type": "markdown",
      "id": "3b4a1f57",
      "metadata": {
        "tags": [],
        "id": "3b4a1f57"
      },
      "source": [
        "The following cell downloads a file and runs some code that is used specifically for this book.\n",
        "You don't have to understand this code yet, but you should run it before you do anything else in this notebook.\n",
        "Remember that you can run the code by selecting the cell and pressing the play button (a triangle in a circle) or hold down `Shift` and press `Enter`."
      ]
    },
    {
      "cell_type": "code",
      "execution_count": 1,
      "id": "213f9d96",
      "metadata": {
        "tags": [],
        "id": "213f9d96",
        "outputId": "7f2ab651-4979-4d59-f1b2-24a6c533cd0c",
        "colab": {
          "base_uri": "https://localhost:8080/"
        }
      },
      "outputs": [
        {
          "output_type": "stream",
          "name": "stdout",
          "text": [
            "Downloaded thinkpython.py\n"
          ]
        }
      ],
      "source": [
        "from os.path import basename, exists\n",
        "\n",
        "def download(url):\n",
        "    filename = basename(url)\n",
        "    if not exists(filename):\n",
        "        from urllib.request import urlretrieve\n",
        "\n",
        "        local, _ = urlretrieve(url, filename)\n",
        "        print(\"Downloaded \" + str(local))\n",
        "    return filename\n",
        "\n",
        "download('https://github.com/AllenDowney/ThinkPython/raw/v3/thinkpython.py');\n",
        "\n",
        "import thinkpython"
      ]
    },
    {
      "cell_type": "markdown",
      "id": "333a6fc9",
      "metadata": {
        "tags": [],
        "id": "333a6fc9"
      },
      "source": [
        "# Programming as a way of thinking\n",
        "\n",
        "The first goal of this book is to teach you how to program in Python.\n",
        "But learning to program means learning a new way to think, so the second goal of this book is to help you think like a computer scientist.\n",
        "This way of thinking combines some of the best features of mathematics, engineering, and natural science.\n",
        "Like mathematicians, computer scientists use formal languages to denote ideas -- specifically computations.\n",
        "Like engineers, they design things, assembling components into systems and evaluating trade-offs among alternatives.\n",
        "Like scientists, they observe the behavior of complex systems, form hypotheses, and test predictions.\n",
        "\n",
        "We will start with the most basic elements of programming and work our way up.\n",
        "In this chapter, we'll see how Python represents numbers, letters, and words.\n",
        "And you'll learn to perform arithmetic operations.\n",
        "\n",
        "You will also start to learn the vocabulary of programming, including terms like operator, expression, value, and type.\n",
        "This vocabulary is important -- you will need it to understand the rest of the book, to communicate with other programmers, and to use and understand virtual assistants."
      ]
    },
    {
      "cell_type": "markdown",
      "id": "a371aea3",
      "metadata": {
        "id": "a371aea3"
      },
      "source": [
        "## Arithmetic operators\n",
        "\n",
        "An **arithmetic operator** is a symbol that represents an arithmetic computation. For example, the plus sign, `+`, performs addition."
      ]
    },
    {
      "cell_type": "code",
      "execution_count": 2,
      "id": "2568ec84",
      "metadata": {
        "id": "2568ec84",
        "outputId": "49a3a3b6-e075-4491-8681-24ad5fb85512",
        "colab": {
          "base_uri": "https://localhost:8080/"
        }
      },
      "outputs": [
        {
          "output_type": "execute_result",
          "data": {
            "text/plain": [
              "130"
            ]
          },
          "metadata": {},
          "execution_count": 2
        }
      ],
      "source": [
        "42 + 88"
      ]
    },
    {
      "cell_type": "markdown",
      "id": "fc0e7ce8",
      "metadata": {
        "id": "fc0e7ce8"
      },
      "source": [
        "The minus sign, `-`, is the operator that performs subtraction."
      ]
    },
    {
      "cell_type": "code",
      "execution_count": 3,
      "id": "c4e75456",
      "metadata": {
        "id": "c4e75456",
        "outputId": "497d4b02-c41a-4861-e050-319a76510713",
        "colab": {
          "base_uri": "https://localhost:8080/"
        }
      },
      "outputs": [
        {
          "output_type": "execute_result",
          "data": {
            "text/plain": [
              "46"
            ]
          },
          "metadata": {},
          "execution_count": 3
        }
      ],
      "source": [
        "88 - 42"
      ]
    },
    {
      "cell_type": "markdown",
      "id": "63e4e780",
      "metadata": {
        "id": "63e4e780"
      },
      "source": [
        "The asterisk, `*`,  performs multiplication."
      ]
    },
    {
      "cell_type": "code",
      "execution_count": 4,
      "id": "022a7b16",
      "metadata": {
        "id": "022a7b16",
        "outputId": "62d63b17-84ff-44ea-a242-01ce0aafd298",
        "colab": {
          "base_uri": "https://localhost:8080/"
        }
      },
      "outputs": [
        {
          "output_type": "execute_result",
          "data": {
            "text/plain": [
              "32"
            ]
          },
          "metadata": {},
          "execution_count": 4
        }
      ],
      "source": [
        "8 * 4"
      ]
    },
    {
      "cell_type": "markdown",
      "id": "a6192d13",
      "metadata": {
        "id": "a6192d13"
      },
      "source": [
        "And the forward slash, `/`, performs division:"
      ]
    },
    {
      "cell_type": "code",
      "execution_count": 6,
      "id": "05ae1098",
      "metadata": {
        "id": "05ae1098",
        "outputId": "d94573eb-21b2-43bc-9bac-129cc0cfb0f2",
        "colab": {
          "base_uri": "https://localhost:8080/"
        }
      },
      "outputs": [
        {
          "output_type": "execute_result",
          "data": {
            "text/plain": [
              "2.0"
            ]
          },
          "metadata": {},
          "execution_count": 6
        }
      ],
      "source": [
        "8 / 4\n",
        "# This will print a floating-point number"
      ]
    },
    {
      "cell_type": "markdown",
      "id": "641ad233",
      "metadata": {
        "id": "641ad233"
      },
      "source": [
        "Notice that the result of the division is `42.0` rather than `42`. That's because there are two types of numbers in Python:\n",
        "\n",
        "* **integers**, which represent numbers with no fractional or decimal part, and\n",
        "\n",
        "* **floating-point numbers**, which represent integers and numbers with a decimal point.\n",
        "\n",
        "If you add, subtract, or multiply two integers, the result is an integer.\n",
        "But if you divide two integers, the result is a floating-point number.\n",
        "Python provides another operator, `//`, that performs **integer division**.\n",
        "The result of integer division is always an integer."
      ]
    },
    {
      "cell_type": "code",
      "execution_count": 8,
      "id": "4df5bcaa",
      "metadata": {
        "id": "4df5bcaa",
        "outputId": "9d9e0355-ffdf-4f5d-8c6a-1d74bcc1632c",
        "colab": {
          "base_uri": "https://localhost:8080/"
        }
      },
      "outputs": [
        {
          "output_type": "execute_result",
          "data": {
            "text/plain": [
              "2"
            ]
          },
          "metadata": {},
          "execution_count": 8
        }
      ],
      "source": [
        "8 // 4\n",
        "# This will print an integer"
      ]
    },
    {
      "cell_type": "markdown",
      "id": "b2a620ab",
      "metadata": {
        "id": "b2a620ab"
      },
      "source": [
        "Integer division is also called \"floor division\" because it always rounds down (toward the \"floor\")."
      ]
    },
    {
      "cell_type": "code",
      "execution_count": 10,
      "id": "ef08d549",
      "metadata": {
        "id": "ef08d549",
        "outputId": "930a78d0-f44a-4659-81e0-01d1e7ab11fd",
        "colab": {
          "base_uri": "https://localhost:8080/"
        }
      },
      "outputs": [
        {
          "output_type": "execute_result",
          "data": {
            "text/plain": [
              "21"
            ]
          },
          "metadata": {},
          "execution_count": 10
        }
      ],
      "source": [
        "87 // 4\n",
        "# This will round down"
      ]
    },
    {
      "cell_type": "markdown",
      "id": "41e2886a",
      "metadata": {
        "id": "41e2886a"
      },
      "source": [
        "Finally, the operator `**` performs exponentiation; that is, it raises a\n",
        "number to a power:"
      ]
    },
    {
      "cell_type": "code",
      "execution_count": 12,
      "id": "df933e80",
      "metadata": {
        "id": "df933e80",
        "outputId": "beb8bd75-1a2f-4c7c-bb82-f12e40583338",
        "colab": {
          "base_uri": "https://localhost:8080/"
        }
      },
      "outputs": [
        {
          "output_type": "execute_result",
          "data": {
            "text/plain": [
              "4096"
            ]
          },
          "metadata": {},
          "execution_count": 12
        }
      ],
      "source": [
        "8 ** 4\n",
        "# Will do 8^2"
      ]
    },
    {
      "cell_type": "markdown",
      "id": "b2502fb6",
      "metadata": {
        "id": "b2502fb6"
      },
      "source": [
        "In some other languages, the caret, `^`, is used for exponentiation, but in Python\n",
        "it is a bitwise operator called XOR.\n",
        "If you are not familiar with bitwise operators, the result might be unexpected:"
      ]
    },
    {
      "cell_type": "code",
      "execution_count": 14,
      "id": "306b6b88",
      "metadata": {
        "id": "306b6b88",
        "outputId": "d126d100-ae26-4444-d361-0bc579c3c49d",
        "colab": {
          "base_uri": "https://localhost:8080/"
        }
      },
      "outputs": [
        {
          "output_type": "execute_result",
          "data": {
            "text/plain": [
              "12"
            ]
          },
          "metadata": {},
          "execution_count": 14
        }
      ],
      "source": [
        "8 ^ 4\n",
        "# Would give the correct answer in a different language"
      ]
    },
    {
      "cell_type": "markdown",
      "id": "30078370",
      "metadata": {
        "id": "30078370"
      },
      "source": [
        "I won't cover bitwise operators in this book, but you can read about\n",
        "them at <http://wiki.python.org/moin/BitwiseOperators>."
      ]
    },
    {
      "cell_type": "markdown",
      "id": "0f5b7e97",
      "metadata": {
        "id": "0f5b7e97"
      },
      "source": [
        "## Expressions\n",
        "\n",
        "A collection of operators and numbers is called an **expression**.\n",
        "An expression can contain any number of operators and numbers.\n",
        "For example, here's an expression that contains two operators."
      ]
    },
    {
      "cell_type": "code",
      "execution_count": 18,
      "id": "6e68101d",
      "metadata": {
        "id": "6e68101d",
        "outputId": "1fb75990-b7b3-498a-d059-2f1ef9bb54fc",
        "colab": {
          "base_uri": "https://localhost:8080/"
        }
      },
      "outputs": [
        {
          "output_type": "execute_result",
          "data": {
            "text/plain": [
              "72"
            ]
          },
          "metadata": {},
          "execution_count": 18
        }
      ],
      "source": [
        "8 + 4 ** 3\n",
        "# Keep in mind the order of operations still applies"
      ]
    },
    {
      "cell_type": "markdown",
      "id": "8e95039c",
      "metadata": {
        "id": "8e95039c"
      },
      "source": [
        "Notice that exponentiation happens before addition.\n",
        "Python follows the order of operations you might have learned in a math class: exponentiation happens before multiplication and division, which happen before addition and subtraction.\n",
        "\n",
        "In the following example, multiplication happens before addition."
      ]
    },
    {
      "cell_type": "code",
      "execution_count": 19,
      "id": "ffc25598",
      "metadata": {
        "id": "ffc25598",
        "outputId": "c29ddc0d-d6b0-418e-864b-a21da41e79d6",
        "colab": {
          "base_uri": "https://localhost:8080/"
        }
      },
      "outputs": [
        {
          "output_type": "execute_result",
          "data": {
            "text/plain": [
              "20"
            ]
          },
          "metadata": {},
          "execution_count": 19
        }
      ],
      "source": [
        "4 * 3 + 8"
      ]
    },
    {
      "cell_type": "markdown",
      "id": "914a60d8",
      "metadata": {
        "id": "914a60d8"
      },
      "source": [
        "If you want the addition to happen first, you can use parentheses."
      ]
    },
    {
      "cell_type": "code",
      "execution_count": 20,
      "id": "8dd1bd9a",
      "metadata": {
        "id": "8dd1bd9a",
        "outputId": "64d7ed1a-0c16-4fea-8bf3-12109ffef37d",
        "colab": {
          "base_uri": "https://localhost:8080/"
        }
      },
      "outputs": [
        {
          "output_type": "execute_result",
          "data": {
            "text/plain": [
              "44"
            ]
          },
          "metadata": {},
          "execution_count": 20
        }
      ],
      "source": [
        "4 * (3 + 8)"
      ]
    },
    {
      "cell_type": "markdown",
      "id": "67ae0ae9",
      "metadata": {
        "id": "67ae0ae9"
      },
      "source": [
        "Every expression has a **value**.\n",
        "For example, the expression `6 * 7` has the value `42`."
      ]
    },
    {
      "cell_type": "markdown",
      "id": "caebaa51",
      "metadata": {
        "id": "caebaa51"
      },
      "source": [
        "## Arithmetic functions\n",
        "\n",
        "In addition to the arithmetic operators, Python provides a few **functions** that work with numbers.\n",
        "For example, the `round` function takes a floating-point number and rounds it off to the nearest integer."
      ]
    },
    {
      "cell_type": "code",
      "execution_count": 23,
      "id": "1e3d5e01",
      "metadata": {
        "id": "1e3d5e01",
        "outputId": "e0df3949-6ad6-40cc-88a6-a4a64f24e256",
        "colab": {
          "base_uri": "https://localhost:8080/"
        }
      },
      "outputs": [
        {
          "output_type": "execute_result",
          "data": {
            "text/plain": [
              "49"
            ]
          },
          "metadata": {},
          "execution_count": 23
        }
      ],
      "source": [
        "round(48.6)\n",
        "# Make sure to use parentheses"
      ]
    },
    {
      "cell_type": "code",
      "execution_count": 24,
      "id": "d1b220b9",
      "metadata": {
        "id": "d1b220b9",
        "outputId": "a4dd5d32-27d2-40f7-87da-c2037faaa77b",
        "colab": {
          "base_uri": "https://localhost:8080/"
        }
      },
      "outputs": [
        {
          "output_type": "execute_result",
          "data": {
            "text/plain": [
              "48"
            ]
          },
          "metadata": {},
          "execution_count": 24
        }
      ],
      "source": [
        "round(48.1)"
      ]
    },
    {
      "cell_type": "markdown",
      "id": "f5738b4b",
      "metadata": {
        "id": "f5738b4b"
      },
      "source": [
        "The `abs` function computes the absolute value of a number.\n",
        "For a positive number, the absolute value is the number itself."
      ]
    },
    {
      "cell_type": "code",
      "source": [
        "abs(99)"
      ],
      "metadata": {
        "id": "GYsuKRD3jpGK",
        "outputId": "7b4425fd-2840-4589-fcf5-5b27b940db99",
        "colab": {
          "base_uri": "https://localhost:8080/"
        }
      },
      "id": "GYsuKRD3jpGK",
      "execution_count": 25,
      "outputs": [
        {
          "output_type": "execute_result",
          "data": {
            "text/plain": [
              "99"
            ]
          },
          "metadata": {},
          "execution_count": 25
        }
      ]
    },
    {
      "cell_type": "code",
      "execution_count": 27,
      "id": "ff742476",
      "metadata": {
        "id": "ff742476",
        "outputId": "4d681927-f52a-4f48-8882-7a76f2b01b66",
        "colab": {
          "base_uri": "https://localhost:8080/"
        }
      },
      "outputs": [
        {
          "output_type": "execute_result",
          "data": {
            "text/plain": [
              "87"
            ]
          },
          "metadata": {},
          "execution_count": 27
        }
      ],
      "source": [
        "abs(87)"
      ]
    },
    {
      "cell_type": "markdown",
      "id": "e518494a",
      "metadata": {
        "id": "e518494a"
      },
      "source": [
        "For a negative number, the absolute value is positive."
      ]
    },
    {
      "cell_type": "code",
      "execution_count": 28,
      "id": "9247c1a3",
      "metadata": {
        "id": "9247c1a3",
        "outputId": "133fc321-81ae-4a23-b570-61fb0112751b",
        "colab": {
          "base_uri": "https://localhost:8080/"
        }
      },
      "outputs": [
        {
          "output_type": "execute_result",
          "data": {
            "text/plain": [
              "99"
            ]
          },
          "metadata": {},
          "execution_count": 28
        }
      ],
      "source": [
        "abs(-99)"
      ]
    },
    {
      "cell_type": "markdown",
      "id": "6969ce45",
      "metadata": {
        "id": "6969ce45"
      },
      "source": [
        "When we use a function like this, we say we're **calling** the function.\n",
        "An expression that calls a function is a **function call**.\n",
        "\n",
        "When you call a function, the parentheses are required.\n",
        "If you leave them out, you get an error message."
      ]
    },
    {
      "cell_type": "markdown",
      "id": "5a73bfd5",
      "metadata": {
        "tags": [],
        "id": "5a73bfd5"
      },
      "source": [
        "NOTE: The following cell uses `%%expect`, which is a Jupyter \"magic command\" that means we expect the code in this cell to produce an error. For more on this topic, see the\n",
        "[Jupyter notebook introduction](https://colab.research.google.com/github/AllenDowney/ThinkPython/blob/v3/chapters/jupyter_intro.ipynb)."
      ]
    },
    {
      "cell_type": "code",
      "execution_count": 30,
      "id": "4674b7ca",
      "metadata": {
        "tags": [],
        "id": "4674b7ca",
        "outputId": "6f323db6-8ab0-4bfa-f09c-c4153da182eb",
        "colab": {
          "base_uri": "https://localhost:8080/"
        }
      },
      "outputs": [
        {
          "output_type": "execute_result",
          "data": {
            "text/plain": [
              "99"
            ]
          },
          "metadata": {},
          "execution_count": 30
        }
      ],
      "source": [
        "abs (99)"
      ]
    },
    {
      "cell_type": "markdown",
      "id": "7d356f1b",
      "metadata": {
        "id": "7d356f1b"
      },
      "source": [
        "You can ignore the first line of this message; it doesn't contain any information we need to understand right now.\n",
        "The second line is the code that contains the error, with a caret (`^`) beneath it to indicate where the error was discovered.\n",
        "\n",
        "The last line indicates that this is a **syntax error**, which means that there is something wrong with the structure of the expression.\n",
        "In this example, the problem is that a function call requires parentheses.\n",
        "\n",
        "Let's see what happens if you leave out the parentheses *and* the value."
      ]
    },
    {
      "cell_type": "code",
      "source": [
        "abs\n",
        "# Provides x (argument) because no value was given"
      ],
      "metadata": {
        "id": "CB169ekskMH2",
        "outputId": "c1eb14c0-9ed7-40c5-c9f5-81e1e93f2f40",
        "colab": {
          "base_uri": "https://localhost:8080/"
        }
      },
      "id": "CB169ekskMH2",
      "execution_count": 32,
      "outputs": [
        {
          "output_type": "execute_result",
          "data": {
            "text/plain": [
              "<function abs(x, /)>"
            ]
          },
          "metadata": {},
          "execution_count": 32
        }
      ]
    },
    {
      "cell_type": "code",
      "execution_count": 35,
      "id": "7d3e8127",
      "metadata": {
        "id": "7d3e8127",
        "outputId": "21514135-062a-48f4-d60a-cf31dcba177c",
        "colab": {
          "base_uri": "https://localhost:8080/"
        }
      },
      "outputs": [
        {
          "output_type": "execute_result",
          "data": {
            "text/plain": [
              "<function abs(x, /)>"
            ]
          },
          "metadata": {},
          "execution_count": 35
        }
      ],
      "source": [
        "abs"
      ]
    },
    {
      "cell_type": "markdown",
      "id": "94478885",
      "metadata": {
        "id": "94478885"
      },
      "source": [
        "A function name all by itself is a legal expression that has a value.\n",
        "When it's displayed, the value indicates that `abs` is a function, and it includes some additional information I'll explain later."
      ]
    },
    {
      "cell_type": "markdown",
      "id": "31a85d17",
      "metadata": {
        "id": "31a85d17"
      },
      "source": [
        "## Strings\n",
        "\n",
        "In addition to numbers, Python can also represent sequences of letters, which are called **strings** because the letters are strung together like beads on a necklace.\n",
        "To write a string, we can put a sequence of letters inside straight quotation marks."
      ]
    },
    {
      "cell_type": "code",
      "execution_count": 38,
      "id": "bd8ae45f",
      "metadata": {
        "id": "bd8ae45f",
        "outputId": "19c5109f-aa8d-466c-e99a-d5983eed575f",
        "colab": {
          "base_uri": "https://localhost:8080/",
          "height": 35
        }
      },
      "outputs": [
        {
          "output_type": "execute_result",
          "data": {
            "text/plain": [
              "'Possibly'"
            ],
            "application/vnd.google.colaboratory.intrinsic+json": {
              "type": "string"
            }
          },
          "metadata": {},
          "execution_count": 38
        }
      ],
      "source": [
        "'Possibly'"
      ]
    },
    {
      "cell_type": "markdown",
      "id": "d20050d8",
      "metadata": {
        "id": "d20050d8"
      },
      "source": [
        "It is also legal to use double quotation marks."
      ]
    },
    {
      "cell_type": "code",
      "execution_count": 39,
      "id": "01d0055e",
      "metadata": {
        "id": "01d0055e",
        "outputId": "f8e190d7-0e56-46d8-9d13-33c6cd15c386",
        "colab": {
          "base_uri": "https://localhost:8080/",
          "height": 35
        }
      },
      "outputs": [
        {
          "output_type": "execute_result",
          "data": {
            "text/plain": [
              "'Potentially'"
            ],
            "application/vnd.google.colaboratory.intrinsic+json": {
              "type": "string"
            }
          },
          "metadata": {},
          "execution_count": 39
        }
      ],
      "source": [
        "\"Potentially\""
      ]
    },
    {
      "cell_type": "markdown",
      "id": "76f5edb7",
      "metadata": {
        "id": "76f5edb7"
      },
      "source": [
        "Double quotes make it easy to write a string that contains an apostrophe, which is the same symbol as a straight quote."
      ]
    },
    {
      "cell_type": "code",
      "execution_count": 41,
      "id": "0295acab",
      "metadata": {
        "id": "0295acab",
        "outputId": "9f11fbda-556e-40b6-81e8-9a27b223e2e5",
        "colab": {
          "base_uri": "https://localhost:8080/",
          "height": 35
        }
      },
      "outputs": [
        {
          "output_type": "execute_result",
          "data": {
            "text/plain": [
              "\"An apostrophe they're so cool\""
            ],
            "application/vnd.google.colaboratory.intrinsic+json": {
              "type": "string"
            }
          },
          "metadata": {},
          "execution_count": 41
        }
      ],
      "source": [
        "\"An apostrophe they're so cool\""
      ]
    },
    {
      "cell_type": "markdown",
      "id": "d62d4b1c",
      "metadata": {
        "id": "d62d4b1c"
      },
      "source": [
        "Strings can also contain spaces, punctuation, and digits."
      ]
    },
    {
      "cell_type": "code",
      "execution_count": 42,
      "id": "cf918917",
      "metadata": {
        "id": "cf918917",
        "outputId": "4a86094c-27f0-4742-cc34-17f4ee52bb10",
        "colab": {
          "base_uri": "https://localhost:8080/",
          "height": 35
        }
      },
      "outputs": [
        {
          "output_type": "execute_result",
          "data": {
            "text/plain": [
              "'Spaces and punctuation, very important, rule number 1 is know how to use strings'"
            ],
            "application/vnd.google.colaboratory.intrinsic+json": {
              "type": "string"
            }
          },
          "metadata": {},
          "execution_count": 42
        }
      ],
      "source": [
        "\"Spaces and punctuation, very important, rule number 1 is know how to use strings\""
      ]
    },
    {
      "cell_type": "markdown",
      "id": "9ad47f7a",
      "metadata": {
        "id": "9ad47f7a"
      },
      "source": [
        "The `+` operator works with strings; it joins two strings into a single string, which is called **concatenation**"
      ]
    },
    {
      "cell_type": "code",
      "execution_count": 45,
      "id": "aefe6af1",
      "metadata": {
        "id": "aefe6af1",
        "outputId": "baed345b-0333-46e8-f6db-4c0e470163ce",
        "colab": {
          "base_uri": "https://localhost:8080/",
          "height": 35
        }
      },
      "outputs": [
        {
          "output_type": "execute_result",
          "data": {
            "text/plain": [
              "'String number one String 2 of 2, Bonus string'"
            ],
            "application/vnd.google.colaboratory.intrinsic+json": {
              "type": "string"
            }
          },
          "metadata": {},
          "execution_count": 45
        }
      ],
      "source": [
        "\"String number one\" + \" String 2 of 2,\" + \" Bonus string\""
      ]
    },
    {
      "cell_type": "markdown",
      "id": "0ad969a3",
      "metadata": {
        "id": "0ad969a3"
      },
      "source": [
        "The `*` operator also works with strings; it makes multiple copies of a string and concatenates them."
      ]
    },
    {
      "cell_type": "code",
      "execution_count": 46,
      "id": "42e9e4e2",
      "metadata": {
        "id": "42e9e4e2",
        "outputId": "2c27d1b8-fe40-4029-cedc-b4947aa7887e",
        "colab": {
          "base_uri": "https://localhost:8080/",
          "height": 35
        }
      },
      "outputs": [
        {
          "output_type": "execute_result",
          "data": {
            "text/plain": [
              "'So many strings, So many strings, So many strings, So many strings, So many strings, So many strings, So many strings, So many strings, '"
            ],
            "application/vnd.google.colaboratory.intrinsic+json": {
              "type": "string"
            }
          },
          "metadata": {},
          "execution_count": 46
        }
      ],
      "source": [
        "\"So many strings, \" * 8"
      ]
    },
    {
      "cell_type": "markdown",
      "id": "dfba16a5",
      "metadata": {
        "id": "dfba16a5"
      },
      "source": [
        "The other arithmetic operators don't work with strings.\n",
        "\n",
        "Python provides a function called `len` that computes the length of a string."
      ]
    },
    {
      "cell_type": "code",
      "execution_count": 49,
      "id": "a5e837db",
      "metadata": {
        "id": "a5e837db",
        "outputId": "954a0fa6-a706-4039-ae62-37415e6fc3b0",
        "colab": {
          "base_uri": "https://localhost:8080/"
        }
      },
      "outputs": [
        {
          "output_type": "execute_result",
          "data": {
            "text/plain": [
              "24"
            ]
          },
          "metadata": {},
          "execution_count": 49
        }
      ],
      "source": [
        "len(\"How long is this string?\")\n",
        "# Quotation marks not included, however things such as spaces and punctuation is."
      ]
    },
    {
      "cell_type": "markdown",
      "id": "d91e00b3",
      "metadata": {
        "id": "d91e00b3"
      },
      "source": [
        "Notice that `len` counts the letters between the quotes, but not the quotes.\n",
        "\n",
        "When you create a string, be sure to use straight quotes.\n",
        "The back quote, also known as a backtick, causes a syntax error."
      ]
    },
    {
      "cell_type": "code",
      "execution_count": 50,
      "id": "e3f65f19",
      "metadata": {
        "tags": [],
        "id": "e3f65f19",
        "outputId": "8f3729f4-36dd-42d2-d631-91e499351430",
        "colab": {
          "base_uri": "https://localhost:8080/"
        }
      },
      "outputs": [
        {
          "output_type": "execute_result",
          "data": {
            "text/plain": [
              "31"
            ]
          },
          "metadata": {},
          "execution_count": 50
        }
      ],
      "source": [
        "len(\"So how long is this quote then?\")\n",
        "# Back ticks (`) are not usable"
      ]
    },
    {
      "cell_type": "markdown",
      "id": "40d893d1",
      "metadata": {
        "id": "40d893d1"
      },
      "source": [
        "Smart quotes, also known as curly quotes, are also illegal."
      ]
    },
    {
      "cell_type": "code",
      "execution_count": 53,
      "id": "a705b980",
      "metadata": {
        "tags": [],
        "id": "a705b980",
        "outputId": "eb5f9d80-1ffd-4ec6-ddb1-653666a9dc8f",
        "colab": {
          "base_uri": "https://localhost:8080/"
        }
      },
      "outputs": [
        {
          "output_type": "stream",
          "name": "stdout",
          "text": [
            "Do not use curly quotes!\n"
          ]
        }
      ],
      "source": [
        "print(\"Do not use curly quotes!\")"
      ]
    },
    {
      "cell_type": "markdown",
      "id": "5471d4f8",
      "metadata": {
        "id": "5471d4f8"
      },
      "source": [
        "## Values and types\n",
        "\n",
        "So far we've seen three kinds of values:\n",
        "\n",
        "* `2` is an integer,\n",
        "\n",
        "* `42.0` is a floating-point number, and\n",
        "\n",
        "* `'Hello'` is a string.\n",
        "\n",
        "A kind of value is called a **type**.\n",
        "Every value has a type -- or we sometimes say it \"belongs to\" a type.\n",
        "\n",
        "Python provides a function called `type` that tells you the type of any value.\n",
        "The type of an integer is `int`."
      ]
    },
    {
      "cell_type": "code",
      "execution_count": 55,
      "id": "3df8e2c5",
      "metadata": {
        "id": "3df8e2c5",
        "outputId": "0274355e-ad59-4d2e-e011-6c46911a2ca6",
        "colab": {
          "base_uri": "https://localhost:8080/"
        }
      },
      "outputs": [
        {
          "output_type": "execute_result",
          "data": {
            "text/plain": [
              "int"
            ]
          },
          "metadata": {},
          "execution_count": 55
        }
      ],
      "source": [
        "type(4)"
      ]
    },
    {
      "cell_type": "markdown",
      "id": "b137814c",
      "metadata": {
        "id": "b137814c"
      },
      "source": [
        "The type of a floating-point number is `float`."
      ]
    },
    {
      "cell_type": "code",
      "execution_count": 56,
      "id": "c4732c8d",
      "metadata": {
        "id": "c4732c8d",
        "outputId": "03c476f2-d61f-4867-b9ed-0c870150ff6e",
        "colab": {
          "base_uri": "https://localhost:8080/"
        }
      },
      "outputs": [
        {
          "output_type": "execute_result",
          "data": {
            "text/plain": [
              "float"
            ]
          },
          "metadata": {},
          "execution_count": 56
        }
      ],
      "source": [
        "type(4.0)"
      ]
    },
    {
      "cell_type": "markdown",
      "id": "266dea4e",
      "metadata": {
        "id": "266dea4e"
      },
      "source": [
        "And the type of a string is `str`."
      ]
    },
    {
      "cell_type": "code",
      "execution_count": 57,
      "id": "8f65ac45",
      "metadata": {
        "id": "8f65ac45",
        "outputId": "764036d3-0c74-4dca-b9ad-804bcb3eefa0",
        "colab": {
          "base_uri": "https://localhost:8080/"
        }
      },
      "outputs": [
        {
          "output_type": "execute_result",
          "data": {
            "text/plain": [
              "str"
            ]
          },
          "metadata": {},
          "execution_count": 57
        }
      ],
      "source": [
        "type(\"Is this a string or what?\")"
      ]
    },
    {
      "cell_type": "markdown",
      "id": "76d216ed",
      "metadata": {
        "id": "76d216ed"
      },
      "source": [
        "The types `int`, `float`, and `str` can be used as functions.\n",
        "For example, `int` can take a floating-point number and convert it to an integer (always rounding down)."
      ]
    },
    {
      "cell_type": "code",
      "execution_count": 60,
      "id": "84b22f2f",
      "metadata": {
        "id": "84b22f2f",
        "outputId": "4fea791d-dcc2-4860-93a0-7d244b3dfe02",
        "colab": {
          "base_uri": "https://localhost:8080/"
        }
      },
      "outputs": [
        {
          "output_type": "execute_result",
          "data": {
            "text/plain": [
              "4"
            ]
          },
          "metadata": {},
          "execution_count": 60
        }
      ],
      "source": [
        "int(4.4)"
      ]
    },
    {
      "cell_type": "markdown",
      "id": "dcd8d114",
      "metadata": {
        "id": "dcd8d114"
      },
      "source": [
        "And `float` can convert an integer to a floating-point value."
      ]
    },
    {
      "cell_type": "code",
      "execution_count": 61,
      "id": "9b66ee21",
      "metadata": {
        "id": "9b66ee21",
        "outputId": "9a3d0091-cd89-4d51-8e72-9b95c6fd33d3",
        "colab": {
          "base_uri": "https://localhost:8080/"
        }
      },
      "outputs": [
        {
          "output_type": "execute_result",
          "data": {
            "text/plain": [
              "88.0"
            ]
          },
          "metadata": {},
          "execution_count": 61
        }
      ],
      "source": [
        "float(88)"
      ]
    },
    {
      "cell_type": "markdown",
      "id": "eda70b61",
      "metadata": {
        "id": "eda70b61"
      },
      "source": [
        "Now, here's something that can be confusing.\n",
        "What do you get if you put a sequence of digits in quotes?"
      ]
    },
    {
      "cell_type": "code",
      "execution_count": 67,
      "id": "f64e107c",
      "metadata": {
        "id": "f64e107c",
        "outputId": "7e8b5bcd-afcf-4400-97ff-b420d0e72074",
        "colab": {
          "base_uri": "https://localhost:8080/",
          "height": 35
        }
      },
      "outputs": [
        {
          "output_type": "execute_result",
          "data": {
            "text/plain": [
              "'888'"
            ],
            "application/vnd.google.colaboratory.intrinsic+json": {
              "type": "string"
            }
          },
          "metadata": {},
          "execution_count": 67
        }
      ],
      "source": [
        "'888'"
      ]
    },
    {
      "cell_type": "markdown",
      "id": "fdded653",
      "metadata": {
        "id": "fdded653"
      },
      "source": [
        "It looks like a number, but it is actually a string."
      ]
    },
    {
      "cell_type": "code",
      "execution_count": 65,
      "id": "609a8153",
      "metadata": {
        "id": "609a8153",
        "outputId": "73649ce4-c39c-4838-ade6-17dd5f8237cd",
        "colab": {
          "base_uri": "https://localhost:8080/"
        }
      },
      "outputs": [
        {
          "output_type": "execute_result",
          "data": {
            "text/plain": [
              "str"
            ]
          },
          "metadata": {},
          "execution_count": 65
        }
      ],
      "source": [
        "type(\"888\")\n",
        "# It creates a string because \"888\" is considered to be printed, not a value"
      ]
    },
    {
      "cell_type": "markdown",
      "id": "2683ac35",
      "metadata": {
        "id": "2683ac35"
      },
      "source": [
        "If you try to use it like a number, you might get an error."
      ]
    },
    {
      "cell_type": "code",
      "execution_count": 72,
      "id": "1cf21da4",
      "metadata": {
        "tags": [],
        "id": "1cf21da4",
        "outputId": "ba2dbe1d-d9b8-4b04-f0f4-b82d3c8a382e",
        "colab": {
          "base_uri": "https://localhost:8080/",
          "height": 54
        }
      },
      "outputs": [
        {
          "output_type": "error",
          "ename": "TypeError",
          "evalue": "unsupported operand type(s) for /: 'str' and 'int'",
          "traceback": [
            "\u001b[0;31mTypeError\u001b[0m\u001b[0;31m:\u001b[0m unsupported operand type(s) for /: 'str' and 'int'\n"
          ]
        }
      ],
      "source": [
        "'333' / 3\n",
        "# Because it is technically considering it a word, not a value"
      ]
    },
    {
      "cell_type": "markdown",
      "id": "32c11cc4",
      "metadata": {
        "id": "32c11cc4"
      },
      "source": [
        "This example generates a `TypeError`, which means that the values in the expression, which are called **operands**, have the wrong type.\n",
        "The error message indicates that the `/` operator does not support the types of these values, which are `str` and `int`.\n",
        "\n",
        "If you have a string that contains digits, you can use `int` to convert it to an integer."
      ]
    },
    {
      "cell_type": "code",
      "execution_count": 73,
      "id": "d45e6a60",
      "metadata": {
        "id": "d45e6a60",
        "outputId": "8e995ea5-6566-4f02-b06b-a6a4a3860507",
        "colab": {
          "base_uri": "https://localhost:8080/"
        }
      },
      "outputs": [
        {
          "output_type": "execute_result",
          "data": {
            "text/plain": [
              "898"
            ]
          },
          "metadata": {},
          "execution_count": 73
        }
      ],
      "source": [
        "int('898')"
      ]
    },
    {
      "cell_type": "markdown",
      "id": "86935d56",
      "metadata": {
        "id": "86935d56"
      },
      "source": [
        "If you have a string that contains digits and a decimal point, you can use `float` to convert it to a floating-point number."
      ]
    },
    {
      "cell_type": "code",
      "execution_count": 74,
      "id": "db30b719",
      "metadata": {
        "id": "db30b719",
        "outputId": "204dac52-ddb1-4743-de9f-f54c4bee27aa",
        "colab": {
          "base_uri": "https://localhost:8080/"
        }
      },
      "outputs": [
        {
          "output_type": "execute_result",
          "data": {
            "text/plain": [
              "882.0"
            ]
          },
          "metadata": {},
          "execution_count": 74
        }
      ],
      "source": [
        "float('882')"
      ]
    },
    {
      "cell_type": "markdown",
      "id": "03103ef4",
      "metadata": {
        "id": "03103ef4"
      },
      "source": [
        "When you write a large integer, you might be tempted to use commas\n",
        "between groups of digits, as in `1,000,000`.\n",
        "This is a legal expression in Python, but the result is not an integer."
      ]
    },
    {
      "cell_type": "code",
      "execution_count": 76,
      "id": "d72b6af1",
      "metadata": {
        "id": "d72b6af1",
        "outputId": "67206f17-5210-4888-8d3a-57d25fb639ef",
        "colab": {
          "base_uri": "https://localhost:8080/"
        }
      },
      "outputs": [
        {
          "output_type": "execute_result",
          "data": {
            "text/plain": [
              "(8, 900, 0)"
            ]
          },
          "metadata": {},
          "execution_count": 76
        }
      ],
      "source": [
        "8,900,000\n",
        "# It counts it as a sequence of numbers, not as one whole value"
      ]
    },
    {
      "cell_type": "markdown",
      "id": "3d24af71",
      "metadata": {
        "id": "3d24af71"
      },
      "source": [
        "Python interprets `1,000,000` as a comma-separated sequence of integers.\n",
        "We'll learn more about this kind of sequence later.\n",
        "\n",
        "You can use underscores to make large numbers easier to read."
      ]
    },
    {
      "cell_type": "code",
      "execution_count": 81,
      "id": "e19bf7e7",
      "metadata": {
        "id": "e19bf7e7",
        "outputId": "250e1e01-07b6-4b85-c25e-b1baf653eaec",
        "colab": {
          "base_uri": "https://localhost:8080/"
        }
      },
      "outputs": [
        {
          "output_type": "execute_result",
          "data": {
            "text/plain": [
              "8900000"
            ]
          },
          "metadata": {},
          "execution_count": 81
        }
      ],
      "source": [
        "# Underscores can replace commas if trying to see how many zeroes there are in the code, but does not print commas when the program is run\n",
        "8_900_000"
      ]
    },
    {
      "cell_type": "markdown",
      "id": "1761cbac",
      "metadata": {
        "id": "1761cbac"
      },
      "source": [
        "## Formal and natural languages\n",
        "\n",
        "**Natural languages** are the languages people speak, like English, Spanish, and French. They were not designed by people; they evolved naturally.\n",
        "\n",
        "**Formal languages** are languages that are designed by people for specific applications.\n",
        "For example, the notation that mathematicians use is a formal language that is particularly good at denoting relationships among numbers and symbols.\n",
        "Similarly, programming languages are formal languages that have been designed to express computations."
      ]
    },
    {
      "cell_type": "markdown",
      "id": "1bf3d2dc",
      "metadata": {
        "id": "1bf3d2dc"
      },
      "source": [
        "Although formal and natural languages have some features in\n",
        "common there are important differences:\n",
        "\n",
        "* Ambiguity: Natural languages are full of ambiguity, which people deal with by\n",
        "    using contextual clues and other information. Formal languages are\n",
        "    designed to be nearly or completely unambiguous, which means that\n",
        "    any program has exactly one meaning, regardless of context.\n",
        "\n",
        "* Redundancy: In order to make up for ambiguity and reduce misunderstandings,\n",
        "    natural languages use redundancy. As a result, they are\n",
        "    often verbose. Formal languages are less redundant and more concise.\n",
        "\n",
        "* Literalness: Natural languages are full of idiom and metaphor. Formal languages mean exactly what they say."
      ]
    },
    {
      "cell_type": "markdown",
      "id": "78a1cec8",
      "metadata": {
        "id": "78a1cec8"
      },
      "source": [
        "Because we all grow up speaking natural languages, it is sometimes hard to adjust to formal languages.\n",
        "Formal languages are more dense than natural languages, so it takes longer to read them.\n",
        "Also, the structure is important, so it is not always best to read from top to bottom, left to right.\n",
        "Finally, the details matter. Small errors in spelling and\n",
        "punctuation, which you can get away with in natural languages, can make\n",
        "a big difference in a formal language."
      ]
    },
    {
      "cell_type": "markdown",
      "id": "4358fa9a",
      "metadata": {
        "id": "4358fa9a"
      },
      "source": [
        "## Debugging\n",
        "\n",
        "Programmers make mistakes. For whimsical reasons, programming errors are called **bugs** and the process of tracking them down is called **debugging**.\n",
        "\n",
        "Programming, and especially debugging, sometimes brings out strong emotions. If you are struggling with a difficult bug, you might feel angry, sad, or embarrassed.\n",
        "\n",
        "Preparing for these reactions might help you deal with them. One approach is to think of the computer as an employee with certain strengths, like speed and precision, and particular weaknesses, like lack of empathy and inability to grasp the big picture.\n",
        "\n",
        "Your job is to be a good manager: find ways to take advantage of the strengths and mitigate the weaknesses. And find ways to use your emotions to engage with the problem, without letting your reactions interfere with your ability to work effectively.\n",
        "\n",
        "Learning to debug can be frustrating, but it is a valuable skill that is useful for many activities beyond programming. At the end of each chapter there is a section, like this one, with my suggestions for debugging. I hope they help!"
      ]
    },
    {
      "cell_type": "markdown",
      "id": "33b8ad00",
      "metadata": {
        "id": "33b8ad00"
      },
      "source": [
        "## Glossary\n",
        "\n",
        "**arithmetic operator:**\n",
        "A symbol, like `+` and `*`, that denotes an arithmetic operation like addition or multiplication.\n",
        "\n",
        "**integer:**\n",
        "A type that represents numbers with no fractional or decimal part.\n",
        "\n",
        "**floating-point:**\n",
        "A type that represents integers and numbers with decimal parts.\n",
        "\n",
        "**integer division:**\n",
        "An operator, `//`, that divides two numbers and rounds down to an integer.\n",
        "\n",
        "**expression:**\n",
        "A combination of variables, values, and operators.\n",
        "\n",
        "**value:**\n",
        "An integer, floating-point number, or string -- or one of other kinds of values we will see later.\n",
        "\n",
        "**function:**\n",
        "A named sequence of statements that performs some useful operation.\n",
        "Functions may or may not take arguments and may or may not produce a result.\n",
        "\n",
        "**function call:**\n",
        "An expression -- or part of an expression -- that runs a function.\n",
        "It consists of the function name followed by an argument list in parentheses.\n",
        "\n",
        "**syntax error:**\n",
        "An error in a program that makes it impossible to parse -- and therefore impossible to run.\n",
        "\n",
        "**string:**\n",
        " A type that represents sequences of characters.\n",
        "\n",
        "**concatenation:**\n",
        "Joining two strings end-to-end.\n",
        "\n",
        "**type:**\n",
        "A category of values.\n",
        "The types we have seen so far are integers (type `int`), floating-point numbers (type ` float`), and strings (type `str`).\n",
        "\n",
        "**operand:**\n",
        "One of the values on which an operator operates.\n",
        "\n",
        "**natural language:**\n",
        "Any of the languages that people speak that evolved naturally.\n",
        "\n",
        "**formal language:**\n",
        "Any of the languages that people have designed for specific purposes, such as representing mathematical ideas or computer programs.\n",
        "All programming languages are formal languages.\n",
        "\n",
        "**bug:**\n",
        "An error in a program.\n",
        "\n",
        "**debugging:**\n",
        "The process of finding and correcting errors."
      ]
    },
    {
      "cell_type": "markdown",
      "id": "ed4ec01b",
      "metadata": {
        "id": "ed4ec01b"
      },
      "source": [
        "## Exercises"
      ]
    },
    {
      "cell_type": "code",
      "execution_count": 84,
      "id": "06d3e72c",
      "metadata": {
        "tags": [],
        "id": "06d3e72c",
        "outputId": "4f26d20b-900a-477a-9a0b-cf71c82ca0ee",
        "colab": {
          "base_uri": "https://localhost:8080/"
        }
      },
      "outputs": [
        {
          "output_type": "stream",
          "name": "stdout",
          "text": [
            "Exception reporting mode: Verbose\n"
          ]
        }
      ],
      "source": [
        "# This cell tells Jupyter to provide detailed debugging information\n",
        "# when a runtime error occurs. Run it before working on the exercises.\n",
        "\n",
        "%xmode Verbose"
      ]
    },
    {
      "cell_type": "markdown",
      "id": "23adf208",
      "metadata": {
        "id": "23adf208"
      },
      "source": [
        "### Ask a virtual assistant\n",
        "\n",
        "As you work through this book, there are several ways you can use a virtual assistant or chatbot to help you learn.\n",
        "\n",
        "* If you want to learn more about a topic in the chapter, or anything is unclear, you can ask for an explanation.\n",
        "\n",
        "* If you are having a hard time with any of the exercises, you can ask for help.\n",
        "\n",
        "In each chapter, I'll suggest exercises you can do with a virtual assistant, but I encourage you to try things on your own and see what works for you."
      ]
    },
    {
      "cell_type": "markdown",
      "id": "ebf1a451",
      "metadata": {
        "id": "ebf1a451"
      },
      "source": [
        "Here are some topics you could ask a virtual assistant about:\n",
        "\n",
        "* Earlier I mentioned bitwise operators but I didn't explain why the value of `7 ^ 2` is 5. Try asking \"What are the bitwise operators in Python?\" or \"What is the value of `7 XOR 2`?\"\n",
        "\n",
        "* I also mentioned the order of operations. For more details, ask \"What is the order of operations in Python?\"\n",
        "\n",
        "* The `round` function, which we used to round a floating-point number to the nearest integer, can take a second argument. Try asking \"What are the arguments of the round function?\" or \"How do I round pi off to three decimal places?\"\n",
        "\n",
        "* There's one more arithmetic operator I didn't mention; try asking \"What is the modulus operator in Python?\""
      ]
    },
    {
      "cell_type": "markdown",
      "id": "9be3e1c7",
      "metadata": {
        "id": "9be3e1c7"
      },
      "source": [
        "Most virtual assistants know about Python, so they answer questions like this pretty reliably.\n",
        "But remember that these tools make mistakes.\n",
        "If you get code from a chatbot, test it!"
      ]
    },
    {
      "cell_type": "markdown",
      "id": "03c1ef93",
      "metadata": {
        "id": "03c1ef93"
      },
      "source": [
        "### Exercise\n",
        "\n",
        "You might wonder what `round` does if a number ends in `0.5`.\n",
        "The answer is that it sometimes rounds up and sometimes rounds down.\n",
        "Try these examples and see if you can figure out what rule it follows."
      ]
    },
    {
      "cell_type": "code",
      "execution_count": 87,
      "id": "5d358f37",
      "metadata": {
        "id": "5d358f37",
        "outputId": "e86acfc2-5f77-492c-a594-1aff5d72ee4b",
        "colab": {
          "base_uri": "https://localhost:8080/"
        }
      },
      "outputs": [
        {
          "output_type": "execute_result",
          "data": {
            "text/plain": [
              "8"
            ]
          },
          "metadata": {},
          "execution_count": 87
        }
      ],
      "source": [
        "round(8.5)\n",
        "# As Gemini explains, if the digit before the 0.5 is even, it rounds down, and vice versa if the digit is odd, it rounds up. It always rounds to an even number"
      ]
    },
    {
      "cell_type": "code",
      "execution_count": 88,
      "id": "12aa59a3",
      "metadata": {
        "id": "12aa59a3",
        "outputId": "9830e956-1998-42e9-9476-c6fce452bfb9",
        "colab": {
          "base_uri": "https://localhost:8080/"
        }
      },
      "outputs": [
        {
          "output_type": "execute_result",
          "data": {
            "text/plain": [
              "14"
            ]
          },
          "metadata": {},
          "execution_count": 88
        }
      ],
      "source": [
        "round(13.5)"
      ]
    },
    {
      "cell_type": "markdown",
      "id": "dd2f890e",
      "metadata": {
        "id": "dd2f890e"
      },
      "source": [
        "If you are curious, ask a virtual assistant, \"If a number ends in 0.5, does Python round up or down?\""
      ]
    },
    {
      "cell_type": "markdown",
      "id": "2cd03bcb",
      "metadata": {
        "id": "2cd03bcb"
      },
      "source": [
        "### Exercise\n",
        "\n",
        "When you learn about a new feature, you should try it out and make mistakes on purpose.\n",
        "That way, you learn the error messages, and when you see them again, you will know what they mean.\n",
        "It is better to make mistakes now and deliberately than later and accidentally.\n",
        "\n",
        "1.  You can use a minus sign to make a negative number like `-2`. What happens if you put a plus sign before a number? What about `2++2`?\n",
        "\n",
        "2.  What happens if you have two values with no operator between them, like `4 2`?\n",
        "\n",
        "3.  If you call a function like `round(42.5)`, what happens if you leave out one or both parentheses?"
      ]
    },
    {
      "cell_type": "markdown",
      "id": "1fb0adfe",
      "metadata": {
        "id": "1fb0adfe"
      },
      "source": [
        "### Exercise\n",
        "\n",
        "Recall that every expression has a value, every value has a type, and we can use the `type` function to find the type of any value.\n",
        "\n",
        "What is the type of the value of the following expressions? Make your best guess for each one, and then use `type` to find out.\n",
        "\n",
        "* `765`\n",
        "\n",
        "* `2.718`\n",
        "\n",
        "* `'2 pi'`\n",
        "\n",
        "* `abs(-7)`\n",
        "\n",
        "* `abs(-7.0)`\n",
        "\n",
        "* `abs`\n",
        "\n",
        "* `int`\n",
        "\n",
        "* `type`"
      ]
    },
    {
      "cell_type": "markdown",
      "id": "23762eec",
      "metadata": {
        "id": "23762eec"
      },
      "source": [
        "### Exercise\n",
        "\n",
        "The following questions give you a chance to practice writing arithmetic expressions.\n",
        "\n",
        "1.  How many seconds are there in 42 minutes 42 seconds?\n",
        "\n",
        "2.  How many miles are there in 10 kilometers? Hint: there are 1.61 kilometers in a mile.\n",
        "\n",
        "3.  If you run a 10 kilometer race in 42 minutes 42 seconds, what is your average pace in seconds per mile?\n",
        "    \n",
        "4.  What is your average pace in minutes and seconds per mile?\n",
        "\n",
        "5.  What is your average speed in miles per hour?\n",
        "\n",
        "If you already know about variables, you can use them for this exercise.\n",
        "If you don't, you can do the exercise without them -- and then we'll see them in the next chapter."
      ]
    },
    {
      "cell_type": "code",
      "execution_count": 104,
      "id": "8fb50f30",
      "metadata": {
        "id": "8fb50f30",
        "outputId": "514a930b-bf49-4a49-fa4a-80b0190d61e4",
        "colab": {
          "base_uri": "https://localhost:8080/"
        }
      },
      "outputs": [
        {
          "output_type": "execute_result",
          "data": {
            "text/plain": [
              "2562"
            ]
          },
          "metadata": {},
          "execution_count": 104
        }
      ],
      "source": [
        "42 * 60 + 42\n",
        "# Question 1"
      ]
    },
    {
      "cell_type": "code",
      "execution_count": 105,
      "id": "5eceb4fb",
      "metadata": {
        "id": "5eceb4fb",
        "outputId": "7bd542ae-4d5f-47b1-bb25-6e2b5fa0ae7a",
        "colab": {
          "base_uri": "https://localhost:8080/"
        }
      },
      "outputs": [
        {
          "output_type": "execute_result",
          "data": {
            "text/plain": [
              "6.211180124223602"
            ]
          },
          "metadata": {},
          "execution_count": 105
        }
      ],
      "source": [
        "10 / 1.61\n",
        "# Question 2"
      ]
    },
    {
      "cell_type": "code",
      "execution_count": 108,
      "id": "fee97d8d",
      "metadata": {
        "id": "fee97d8d",
        "outputId": "0bf0aa40-77ac-4d00-bfa5-3ea52884a123",
        "colab": {
          "base_uri": "https://localhost:8080/"
        }
      },
      "outputs": [
        {
          "output_type": "execute_result",
          "data": {
            "text/plain": [
              "412.56038647342996"
            ]
          },
          "metadata": {},
          "execution_count": 108
        }
      ],
      "source": [
        "2562 / 6.21\n",
        "# Question 3"
      ]
    },
    {
      "cell_type": "code",
      "execution_count": 109,
      "id": "a998258c",
      "metadata": {
        "id": "a998258c",
        "outputId": "39db5c49-89f9-47d5-e2b1-cc1f1969db29",
        "colab": {
          "base_uri": "https://localhost:8080/"
        }
      },
      "outputs": [
        {
          "output_type": "execute_result",
          "data": {
            "text/plain": [
              "6.875"
            ]
          },
          "metadata": {},
          "execution_count": 109
        }
      ],
      "source": [
        "412.5 / 60\n",
        "# Question 4, still need to convert for minutes and seconds"
      ]
    },
    {
      "cell_type": "code",
      "execution_count": 110,
      "id": "2e0fc7a9",
      "metadata": {
        "id": "2e0fc7a9",
        "outputId": "0033277b-8318-4673-8ab4-8b1e2fd0324b",
        "colab": {
          "base_uri": "https://localhost:8080/"
        }
      },
      "outputs": [
        {
          "output_type": "execute_result",
          "data": {
            "text/plain": [
              "6.0"
            ]
          },
          "metadata": {},
          "execution_count": 110
        }
      ],
      "source": [
        "412.5 // 60\n",
        "# Question 4, will output minutes"
      ]
    },
    {
      "cell_type": "code",
      "execution_count": 111,
      "id": "d25268d8",
      "metadata": {
        "id": "d25268d8",
        "outputId": "3b549e17-4a8f-457b-a746-bcafe2548544",
        "colab": {
          "base_uri": "https://localhost:8080/"
        }
      },
      "outputs": [
        {
          "output_type": "execute_result",
          "data": {
            "text/plain": [
              "52.5"
            ]
          },
          "metadata": {},
          "execution_count": 111
        }
      ],
      "source": [
        "412.5 - 6 * 60\n",
        "# Question 4, will output seconds leftover, therefore, it is 6 minutes and 52.5 seconds"
      ]
    },
    {
      "cell_type": "code",
      "execution_count": 112,
      "id": "523d9b0f",
      "metadata": {
        "id": "523d9b0f",
        "outputId": "f4fae9b1-964d-4030-84eb-09da17d6003a",
        "colab": {
          "base_uri": "https://localhost:8080/"
        }
      },
      "outputs": [
        {
          "output_type": "execute_result",
          "data": {
            "text/plain": [
              "0.7116666666666667"
            ]
          },
          "metadata": {},
          "execution_count": 112
        }
      ],
      "source": [
        "2562 / 60 / 60\n",
        "# Question 5"
      ]
    },
    {
      "cell_type": "code",
      "execution_count": 113,
      "id": "ca083ccf",
      "metadata": {
        "id": "ca083ccf",
        "outputId": "2a134931-9995-4145-a3e4-9983aa983a39",
        "colab": {
          "base_uri": "https://localhost:8080/"
        }
      },
      "outputs": [
        {
          "output_type": "execute_result",
          "data": {
            "text/plain": [
              "8.72191011235955"
            ]
          },
          "metadata": {},
          "execution_count": 113
        }
      ],
      "source": [
        "6.21 / 0.712\n",
        "# Final Question 5"
      ]
    },
    {
      "cell_type": "markdown",
      "id": "a7f4edf8",
      "metadata": {
        "tags": [],
        "id": "a7f4edf8"
      },
      "source": [
        "[Think Python: 3rd Edition](https://allendowney.github.io/ThinkPython/index.html)\n",
        "\n",
        "Copyright 2024 [Allen B. Downey](https://allendowney.com)\n",
        "\n",
        "Code license: [MIT License](https://mit-license.org/)\n",
        "\n",
        "Text license: [Creative Commons Attribution-NonCommercial-ShareAlike 4.0 International](https://creativecommons.org/licenses/by-nc-sa/4.0/)"
      ]
    }
  ],
  "metadata": {
    "celltoolbar": "Tags",
    "kernelspec": {
      "display_name": "Python 3 (ipykernel)",
      "language": "python",
      "name": "python3"
    },
    "language_info": {
      "codemirror_mode": {
        "name": "ipython",
        "version": 3
      },
      "file_extension": ".py",
      "mimetype": "text/x-python",
      "name": "python",
      "nbconvert_exporter": "python",
      "pygments_lexer": "ipython3",
      "version": "3.10.11"
    },
    "colab": {
      "provenance": []
    }
  },
  "nbformat": 4,
  "nbformat_minor": 5
}